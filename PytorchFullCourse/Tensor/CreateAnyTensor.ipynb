{
  "nbformat": 4,
  "nbformat_minor": 0,
  "metadata": {
    "colab": {
      "provenance": [],
      "authorship_tag": "ABX9TyPTktS/9q7IvG8jWLpk0gWJ",
      "include_colab_link": true
    },
    "kernelspec": {
      "name": "python3",
      "display_name": "Python 3"
    },
    "language_info": {
      "name": "python"
    }
  },
  "cells": [
    {
      "cell_type": "markdown",
      "metadata": {
        "id": "view-in-github",
        "colab_type": "text"
      },
      "source": [
        "<a href=\"https://colab.research.google.com/github/iLikeKatz/LotteryWinningTest/blob/main/PytorchFullCourse/Tensor/CreateAnyTensor.ipynb\" target=\"_parent\"><img src=\"https://colab.research.google.com/assets/colab-badge.svg\" alt=\"Open In Colab\"/></a>"
      ]
    },
    {
      "cell_type": "code",
      "execution_count": 2,
      "metadata": {
        "id": "qacntTV_-Yof"
      },
      "outputs": [],
      "source": [
        "import torch"
      ]
    },
    {
      "cell_type": "markdown",
      "source": [
        "### Random value"
      ],
      "metadata": {
        "id": "QlOk0pvOCJpd"
      }
    },
    {
      "cell_type": "code",
      "source": [
        "#a random  tensor of shape\n",
        "tens = torch.rand(1, 2, 3) #shape 1, 2, 3 with random values\n",
        "tens"
      ],
      "metadata": {
        "colab": {
          "base_uri": "https://localhost:8080/"
        },
        "id": "ATDvpivr-eh7",
        "outputId": "8b38d09a-2166-4eaa-e574-c404a3087f38"
      },
      "execution_count": 3,
      "outputs": [
        {
          "output_type": "execute_result",
          "data": {
            "text/plain": [
              "tensor([[[0.9588, 0.6943, 0.6052],\n",
              "         [0.2440, 0.2459, 0.2457]]])"
            ]
          },
          "metadata": {},
          "execution_count": 3
        }
      ]
    },
    {
      "cell_type": "code",
      "source": [
        "#a random tensor with similar shape to an image tensor\n",
        "ImageTens = torch.rand(size=(224, 224, 3))\n",
        "ImageTens.shape, ImageTens.ndim\n"
      ],
      "metadata": {
        "id": "HUuhySVb_FJ0",
        "colab": {
          "base_uri": "https://localhost:8080/"
        },
        "outputId": "39fd6c62-5d81-466a-f514-54e165bc23cd"
      },
      "execution_count": 4,
      "outputs": [
        {
          "output_type": "execute_result",
          "data": {
            "text/plain": [
              "(torch.Size([224, 224, 3]), 3)"
            ]
          },
          "metadata": {},
          "execution_count": 4
        }
      ]
    },
    {
      "cell_type": "markdown",
      "source": [
        "### Ones and Zeros"
      ],
      "metadata": {
        "id": "10HReH5dCk06"
      }
    },
    {
      "cell_type": "code",
      "source": [
        "#create a tensor with all zero values\n",
        "zeroTens = torch.zeros(3,2)\n",
        "zeroTens"
      ],
      "metadata": {
        "colab": {
          "base_uri": "https://localhost:8080/"
        },
        "id": "pVs0actVCbRD",
        "outputId": "1f4b5f53-9d68-41af-b1d9-e22bade66657"
      },
      "execution_count": 5,
      "outputs": [
        {
          "output_type": "execute_result",
          "data": {
            "text/plain": [
              "tensor([[0., 0.],\n",
              "        [0., 0.],\n",
              "        [0., 0.]])"
            ]
          },
          "metadata": {},
          "execution_count": 5
        }
      ]
    },
    {
      "cell_type": "code",
      "source": [
        "#create a tensor with all one values\n",
        "oneTens = torch.ones(3,2)\n",
        "oneTens"
      ],
      "metadata": {
        "colab": {
          "base_uri": "https://localhost:8080/"
        },
        "id": "p6l49P3UC1PU",
        "outputId": "fdcae6b8-16ee-490e-f015-7f8f4384b891"
      },
      "execution_count": 6,
      "outputs": [
        {
          "output_type": "execute_result",
          "data": {
            "text/plain": [
              "tensor([[1., 1.],\n",
              "        [1., 1.],\n",
              "        [1., 1.]])"
            ]
          },
          "metadata": {},
          "execution_count": 6
        }
      ]
    },
    {
      "cell_type": "markdown",
      "source": [
        "### Creating a range of tensors and tensors-like"
      ],
      "metadata": {
        "id": "pOMAKnsLD_yz"
      }
    },
    {
      "cell_type": "code",
      "source": [
        "#arange\n",
        "arange = torch.arange(1, 10,) #meaning a tensor that has values from 1  to 9 (10 - 1) and also we can define the step\n",
        "arange"
      ],
      "metadata": {
        "colab": {
          "base_uri": "https://localhost:8080/"
        },
        "id": "ENtAR2scEUac",
        "outputId": "2c575bfa-77b4-45c5-f83f-1fef41f59757"
      },
      "execution_count": 7,
      "outputs": [
        {
          "output_type": "execute_result",
          "data": {
            "text/plain": [
              "tensor([1, 2, 3, 4, 5, 6, 7, 8, 9])"
            ]
          },
          "metadata": {},
          "execution_count": 7
        }
      ]
    },
    {
      "cell_type": "code",
      "source": [
        "#tensors-like\n",
        "example  = torch.arange(1, 11)\n",
        "ten_zeros = torch.zeros_like(example) #0 replaces whole example\n",
        "ten_zeros"
      ],
      "metadata": {
        "colab": {
          "base_uri": "https://localhost:8080/"
        },
        "id": "hwW2WtAGvdNP",
        "outputId": "01e470ff-bdef-42f2-c1ff-f7716ea2f5a3"
      },
      "execution_count": 8,
      "outputs": [
        {
          "output_type": "execute_result",
          "data": {
            "text/plain": [
              "tensor([0, 0, 0, 0, 0, 0, 0, 0, 0, 0])"
            ]
          },
          "metadata": {},
          "execution_count": 8
        }
      ]
    },
    {
      "cell_type": "markdown",
      "source": [
        "### TensorsDtype"
      ],
      "metadata": {
        "id": "kSgDm3TlvGk1"
      }
    },
    {
      "cell_type": "code",
      "source": [
        "#in torch we most used float32 or 16, device \"cpu\" or \"cuda\" if u have nividia gpu, requires_grad force to set True if for deep learning ()\n",
        "tens = torch.tensor(1, device=None,\n",
        "                                dtype=torch.float32,\n",
        "                                 requires_grad=True )\n",
        "tens"
      ],
      "metadata": {
        "colab": {
          "base_uri": "https://localhost:8080/"
        },
        "id": "zhPAwHiVu2_e",
        "outputId": "7c7a372c-76e6-4bde-d4e6-a739fa53b071"
      },
      "execution_count": 20,
      "outputs": [
        {
          "output_type": "execute_result",
          "data": {
            "text/plain": [
              "tensor(1., requires_grad=True)"
            ]
          },
          "metadata": {},
          "execution_count": 20
        }
      ]
    },
    {
      "cell_type": "code",
      "source": [
        "#change dtypes\n",
        "ten16 = torch.tensor(1, dtype=torch.float16)\n",
        "reDtype32 = ten16.type(torch.float32)\n",
        "reDtype32.dtype, ten16.dtype"
      ],
      "metadata": {
        "colab": {
          "base_uri": "https://localhost:8080/"
        },
        "id": "riSokAA5xToD",
        "outputId": "9f566e77-24ca-4073-fb4a-725543ac31f3"
      },
      "execution_count": 36,
      "outputs": [
        {
          "output_type": "execute_result",
          "data": {
            "text/plain": [
              "(torch.float32, torch.float16)"
            ]
          },
          "metadata": {},
          "execution_count": 36
        }
      ]
    }
  ]
}