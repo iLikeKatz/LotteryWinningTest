{
  "nbformat": 4,
  "nbformat_minor": 0,
  "metadata": {
    "colab": {
      "provenance": [],
      "authorship_tag": "ABX9TyOnUwFRbPtPKNSTMGAaGnBK",
      "include_colab_link": true
    },
    "kernelspec": {
      "name": "python3",
      "display_name": "Python 3"
    },
    "language_info": {
      "name": "python"
    }
  },
  "cells": [
    {
      "cell_type": "markdown",
      "metadata": {
        "id": "view-in-github",
        "colab_type": "text"
      },
      "source": [
        "<a href=\"https://colab.research.google.com/github/iLikeKatz/LotteryWinningTest/blob/main/PytorchFullCourse/Tensor/MatrixMultiplication.ipynb\" target=\"_parent\"><img src=\"https://colab.research.google.com/assets/colab-badge.svg\" alt=\"Open In Colab\"/></a>"
      ]
    },
    {
      "cell_type": "code",
      "execution_count": 79,
      "metadata": {
        "id": "G_MLBBXNRcIG"
      },
      "outputs": [],
      "source": [
        "import  torch"
      ]
    },
    {
      "cell_type": "markdown",
      "source": [
        "### Element- Wise\n",
        "this is simple such as\n",
        " 2 * [1, 2, 3] then [2,4,6] cuz the whole tensor multiplied by 2"
      ],
      "metadata": {
        "id": "x8pGS7PjRkAr"
      }
    },
    {
      "cell_type": "code",
      "source": [
        "tens = torch.tensor([1,2,3])\n",
        "tens * 2"
      ],
      "metadata": {
        "colab": {
          "base_uri": "https://localhost:8080/"
        },
        "id": "Krr-ik_ZRh1d",
        "outputId": "08e1c464-f212-4da6-952d-0770be33a717"
      },
      "execution_count": 80,
      "outputs": [
        {
          "output_type": "execute_result",
          "data": {
            "text/plain": [
              "tensor([2, 4, 6])"
            ]
          },
          "metadata": {},
          "execution_count": 80
        }
      ]
    },
    {
      "cell_type": "code",
      "source": [
        "# or just\n",
        "tens * tens #result : 1, 4, 9\n",
        "#1*1, 2*2, 3*3, i know you can simply understand this, then"
      ],
      "metadata": {
        "colab": {
          "base_uri": "https://localhost:8080/"
        },
        "id": "LzIlgDwmUuaz",
        "outputId": "6ed3b8f8-b143-46ab-982f-836c8bd5efee"
      },
      "execution_count": 90,
      "outputs": [
        {
          "output_type": "execute_result",
          "data": {
            "text/plain": [
              "tensor([1, 4, 9])"
            ]
          },
          "metadata": {},
          "execution_count": 90
        }
      ]
    },
    {
      "cell_type": "markdown",
      "source": [
        "### Dot-Product\n",
        "\n",
        ">\n",
        "\n"
      ],
      "metadata": {
        "id": "7gg-b6TEVEsE"
      }
    },
    {
      "cell_type": "code",
      "source": [
        "torch.matmul(tens, tens) #result : 14 f"
      ],
      "metadata": {
        "colab": {
          "base_uri": "https://localhost:8080/"
        },
        "id": "F1_kYOGxVGR1",
        "outputId": "d11f36df-0dac-4ed4-b623-85593798a0f7"
      },
      "execution_count": 94,
      "outputs": [
        {
          "output_type": "execute_result",
          "data": {
            "text/plain": [
              "tensor(14)"
            ]
          },
          "metadata": {},
          "execution_count": 94
        }
      ]
    },
    {
      "cell_type": "markdown",
      "source": [
        "### why 14?"
      ],
      "metadata": {
        "id": "m5YukoNuZnLp"
      }
    },
    {
      "cell_type": "code",
      "source": [
        "#Dot  product by hands\n",
        "1*1 + 2*2 + 3*3 #this is the processing"
      ],
      "metadata": {
        "colab": {
          "base_uri": "https://localhost:8080/"
        },
        "id": "bdoKTaKEZpo-",
        "outputId": "36f43d52-46fd-4a12-8987-ded6c5374dca"
      },
      "execution_count": 83,
      "outputs": [
        {
          "output_type": "execute_result",
          "data": {
            "text/plain": [
              "14"
            ]
          },
          "metadata": {},
          "execution_count": 83
        }
      ]
    },
    {
      "cell_type": "code",
      "source": [
        "#another example here\n",
        "# if it's not 1d, then you have to convert  those two be like, if matrix a's shape = x * y  then b must be y * z\n",
        "tens1 = torch.tensor([[1,2,3], [4,5,6]])\n",
        "tens2 = torch.tensor([[7,8], [9,10], [11, 12]])\n",
        "torch.matmul(tens1, tens2)"
      ],
      "metadata": {
        "colab": {
          "base_uri": "https://localhost:8080/"
        },
        "id": "VFadnByTaKe9",
        "outputId": "8e69adf8-ec01-463c-d230-9793706f5d2b"
      },
      "execution_count": 96,
      "outputs": [
        {
          "output_type": "execute_result",
          "data": {
            "text/plain": [
              "tensor([[ 58,  64],\n",
              "        [139, 154]])"
            ]
          },
          "metadata": {},
          "execution_count": 96
        }
      ]
    },
    {
      "cell_type": "code",
      "source": [
        "#another way (laziest way and also can confuse you or others)\n",
        "tens1 @ tens2"
      ],
      "metadata": {
        "colab": {
          "base_uri": "https://localhost:8080/"
        },
        "id": "mVPpeu9Zol6p",
        "outputId": "f3b181b2-321e-4008-e1dd-eff19fe5bc39"
      },
      "execution_count": 85,
      "outputs": [
        {
          "output_type": "execute_result",
          "data": {
            "text/plain": [
              "tensor([[ 58,  64],\n",
              "        [139, 154]])"
            ]
          },
          "metadata": {},
          "execution_count": 85
        }
      ]
    },
    {
      "cell_type": "markdown",
      "source": [
        "### if matrix  `a = x * y ` and  ` b = y * z`then a @ b will be shape = [x, z]\n",
        "\n"
      ],
      "metadata": {
        "id": "6X6OpOmOrceo"
      }
    },
    {
      "cell_type": "code",
      "source": [
        "randomTens = torch.rand(3, 3)\n",
        "randomTens2 = torch.rand(3,10)\n",
        "(randomTens @ randomTens2).shape"
      ],
      "metadata": {
        "colab": {
          "base_uri": "https://localhost:8080/"
        },
        "id": "XGMyjrW5q0tT",
        "outputId": "5c8e3721-46f1-4242-d149-7182bbe34e2c"
      },
      "execution_count": 86,
      "outputs": [
        {
          "output_type": "execute_result",
          "data": {
            "text/plain": [
              "torch.Size([3, 10])"
            ]
          },
          "metadata": {},
          "execution_count": 86
        }
      ]
    },
    {
      "cell_type": "markdown",
      "source": [
        "### TRANSPOSE"
      ],
      "metadata": {
        "id": "_Tg86emF31rv"
      }
    },
    {
      "cell_type": "code",
      "source": [
        "#for example\n",
        "Tensor = torch.rand(2, 3)\n",
        "Tensor.shape # 2, 3\n",
        "Tensor.T.shape #3, 2\n",
        "#after using Transpose it will switches rows and columns"
      ],
      "metadata": {
        "colab": {
          "base_uri": "https://localhost:8080/"
        },
        "id": "LAn6QFlL3vxB",
        "outputId": "afa6fdcc-a723-48ba-9a12-1d4b06760043"
      },
      "execution_count": 87,
      "outputs": [
        {
          "output_type": "execute_result",
          "data": {
            "text/plain": [
              "torch.Size([3, 2])"
            ]
          },
          "metadata": {},
          "execution_count": 87
        }
      ]
    }
  ]
}